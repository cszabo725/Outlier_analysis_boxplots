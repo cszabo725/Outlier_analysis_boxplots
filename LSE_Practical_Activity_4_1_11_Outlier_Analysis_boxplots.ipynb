{
 "cells": [
  {
   "cell_type": "code",
   "execution_count": 1,
   "id": "217eb75f",
   "metadata": {},
   "outputs": [
    {
     "name": "stdout",
     "output_type": "stream",
     "text": [
      "          ID                           Title  Year  Age  IMDb Rotten Tomatoes  \\\n",
      "0          1                       Inception  2010  13+   8.8             87%   \n",
      "1          2                      The Matrix  1999  18+   8.7             87%   \n",
      "2          3          Avengers: Infinity War  2018  13+   8.5             84%   \n",
      "3          4              Back to the Future  1985   7+   8.5             96%   \n",
      "4          5  The Good, the Bad and the Ugly  1966  18+   8.8             97%   \n",
      "...      ...                             ...   ...  ...   ...             ...   \n",
      "16739  16740       The Ghosts of Buxley Hall  1980  NaN   6.2             NaN   \n",
      "16740  16741                  The Poof Point  2001   7+   4.7             NaN   \n",
      "16741  16742           Sharks of Lost Island  2013  NaN   5.7             NaN   \n",
      "16742  16743              Man Among Cheetahs  2017  NaN   6.6             NaN   \n",
      "16743  16744                In Beaver Valley  1950  NaN   NaN             NaN   \n",
      "\n",
      "                            Directors                            Genres  \\\n",
      "0                   Christopher Nolan  Action,Adventure,Sci-Fi,Thriller   \n",
      "1      Lana Wachowski,Lilly Wachowski                     Action,Sci-Fi   \n",
      "2             Anthony Russo,Joe Russo           Action,Adventure,Sci-Fi   \n",
      "3                     Robert Zemeckis           Adventure,Comedy,Sci-Fi   \n",
      "4                        Sergio Leone                           Western   \n",
      "...                               ...                               ...   \n",
      "16739                    Bruce Bilson      Comedy,Family,Fantasy,Horror   \n",
      "16740                     Neal Israel              Comedy,Family,Sci-Fi   \n",
      "16741                    Neil Gelinas                       Documentary   \n",
      "16742            Richard Slater-Jones                       Documentary   \n",
      "16743                     James Algar          Documentary,Short,Family   \n",
      "\n",
      "                            Country                 Language  Runtime  \n",
      "0      United States,United Kingdom  English,Japanese,French    148.0  \n",
      "1                     United States                  English    136.0  \n",
      "2                     United States                  English    149.0  \n",
      "3                     United States                  English    116.0  \n",
      "4          Italy,Spain,West Germany                  Italian    161.0  \n",
      "...                             ...                      ...      ...  \n",
      "16739                 United States                  English    120.0  \n",
      "16740                 United States                  English     90.0  \n",
      "16741                 United States                  English      NaN  \n",
      "16742                 United States                  English      NaN  \n",
      "16743                 United States                  English     32.0  \n",
      "\n",
      "[16744 rows x 11 columns]\n",
      "          ID  Netflix  Hulu  Prime Video  Disney+\n",
      "0          1        0     0            1        0\n",
      "1          2        0     1            0        0\n",
      "2          3        0     0            1        0\n",
      "3          4        1     0            0        0\n",
      "4          5        0     0            1        0\n",
      "...      ...      ...   ...          ...      ...\n",
      "16739  16740        0     0            1        0\n",
      "16740  16741        0     0            1        0\n",
      "16741  16742        0     0            1        0\n",
      "16742  16743        0     0            1        0\n",
      "16743  16744        1     0            0        0\n",
      "\n",
      "[16744 rows x 5 columns]\n"
     ]
    }
   ],
   "source": [
    "# Import Matplotlib, Seaborn, and Pandas.\n",
    "import matplotlib.pyplot as plt\n",
    "import seaborn as sns\n",
    "import pandas as pd\n",
    "\n",
    "# Read the files from the current working directory\n",
    "movies = pd.read_csv('movies.csv')\n",
    "ott = pd.read_excel('ott.xlsx')\n",
    "\n",
    "# View the DataFrames\n",
    "print(movies)\n",
    "print(ott)"
   ]
  },
  {
   "cell_type": "code",
   "execution_count": 2,
   "id": "5bb44555",
   "metadata": {},
   "outputs": [
    {
     "name": "stdout",
     "output_type": "stream",
     "text": [
      "(16744, 15)\n",
      "<bound method NDFrame.head of           ID                           Title  Year  Age  IMDb Rotten Tomatoes  \\\n",
      "0          1                       Inception  2010  13+   8.8             87%   \n",
      "1          2                      The Matrix  1999  18+   8.7             87%   \n",
      "2          3          Avengers: Infinity War  2018  13+   8.5             84%   \n",
      "3          4              Back to the Future  1985   7+   8.5             96%   \n",
      "4          5  The Good, the Bad and the Ugly  1966  18+   8.8             97%   \n",
      "...      ...                             ...   ...  ...   ...             ...   \n",
      "16739  16740       The Ghosts of Buxley Hall  1980  NaN   6.2             NaN   \n",
      "16740  16741                  The Poof Point  2001   7+   4.7             NaN   \n",
      "16741  16742           Sharks of Lost Island  2013  NaN   5.7             NaN   \n",
      "16742  16743              Man Among Cheetahs  2017  NaN   6.6             NaN   \n",
      "16743  16744                In Beaver Valley  1950  NaN   NaN             NaN   \n",
      "\n",
      "                            Directors                            Genres  \\\n",
      "0                   Christopher Nolan  Action,Adventure,Sci-Fi,Thriller   \n",
      "1      Lana Wachowski,Lilly Wachowski                     Action,Sci-Fi   \n",
      "2             Anthony Russo,Joe Russo           Action,Adventure,Sci-Fi   \n",
      "3                     Robert Zemeckis           Adventure,Comedy,Sci-Fi   \n",
      "4                        Sergio Leone                           Western   \n",
      "...                               ...                               ...   \n",
      "16739                    Bruce Bilson      Comedy,Family,Fantasy,Horror   \n",
      "16740                     Neal Israel              Comedy,Family,Sci-Fi   \n",
      "16741                    Neil Gelinas                       Documentary   \n",
      "16742            Richard Slater-Jones                       Documentary   \n",
      "16743                     James Algar          Documentary,Short,Family   \n",
      "\n",
      "                            Country                 Language  Runtime  \\\n",
      "0      United States,United Kingdom  English,Japanese,French    148.0   \n",
      "1                     United States                  English    136.0   \n",
      "2                     United States                  English    149.0   \n",
      "3                     United States                  English    116.0   \n",
      "4          Italy,Spain,West Germany                  Italian    161.0   \n",
      "...                             ...                      ...      ...   \n",
      "16739                 United States                  English    120.0   \n",
      "16740                 United States                  English     90.0   \n",
      "16741                 United States                  English      NaN   \n",
      "16742                 United States                  English      NaN   \n",
      "16743                 United States                  English     32.0   \n",
      "\n",
      "       Netflix  Hulu  Prime Video  Disney+  \n",
      "0            0     0            1        0  \n",
      "1            0     1            0        0  \n",
      "2            0     0            1        0  \n",
      "3            1     0            0        0  \n",
      "4            0     0            1        0  \n",
      "...        ...   ...          ...      ...  \n",
      "16739        0     0            1        0  \n",
      "16740        0     0            1        0  \n",
      "16741        0     0            1        0  \n",
      "16742        0     0            1        0  \n",
      "16743        1     0            0        0  \n",
      "\n",
      "[16744 rows x 15 columns]>\n",
      "ID                   int64\n",
      "Title               object\n",
      "Year                 int64\n",
      "Age                 object\n",
      "IMDb               float64\n",
      "Rotten Tomatoes     object\n",
      "Directors           object\n",
      "Genres              object\n",
      "Country             object\n",
      "Language            object\n",
      "Runtime            float64\n",
      "Netflix              int64\n",
      "Hulu                 int64\n",
      "Prime Video          int64\n",
      "Disney+              int64\n",
      "dtype: object\n"
     ]
    }
   ],
   "source": [
    "# Merge ott and movies DataFrames\n",
    "mov_ott = movies.merge(ott, how='left', on='ID')\n",
    "\n",
    "# View the combined DataFrame\n",
    "print(mov_ott.shape)\n",
    "print(mov_ott.head)\n",
    "print(mov_ott.dtypes)"
   ]
  },
  {
   "cell_type": "code",
   "execution_count": 4,
   "id": "f248bca5",
   "metadata": {},
   "outputs": [
    {
     "data": {
      "text/plain": [
       "<AxesSubplot:xlabel='Age', ylabel='IMDb'>"
      ]
     },
     "execution_count": 4,
     "metadata": {},
     "output_type": "execute_result"
    },
    {
     "data": {
      "image/png": "[encoded data removed]",
      "text/plain": [
       "<Figure size 432x288 with 1 Axes>"
      ]
     },
     "metadata": {
      "needs_background": "light"
     },
     "output_type": "display_data"
    }
   ],
   "source": [
    "# Create a boxplot with two variables, age and IMDb\n",
    "sns.boxplot(data=mov_ott, x='Age', y='IMDb')"
   ]
  },
  {
   "cell_type": "code",
   "execution_count": 5,
   "id": "0559bed3",
   "metadata": {},
   "outputs": [
    {
     "data": {
      "text/plain": [
       "<AxesSubplot:xlabel='Age', ylabel='IMDb'>"
      ]
     },
     "execution_count": 5,
     "metadata": {},
     "output_type": "execute_result"
    },
    {
     "data": {
      "image/png": "[encoded data removed]",
      "text/plain": [
       "<Figure size 432x288 with 1 Axes>"
      ]
     },
     "metadata": {
      "needs_background": "light"
     },
     "output_type": "display_data"
    }
   ],
   "source": [
    "#Reorder variables\n",
    "my_order = mov_ott.groupby(by=['Age']).median().iloc[::-1].index\n",
    "\n",
    "# Create a boxplot based on the order of variables\n",
    "sns.boxplot(x='Age', y='IMDb', data=mov_ott, order=my_order)"
   ]
  },
  {
   "cell_type": "code",
   "execution_count": null,
   "id": "8e04631b",
   "metadata": {},
   "outputs": [],
   "source": []
  }
 ],
 "metadata": {
  "kernelspec": {
   "display_name": "Python 3 (ipykernel)",
   "language": "python",
   "name": "python3"
  },
  "language_info": {
   "codemirror_mode": {
    "name": "ipython",
    "version": 3
   },
   "file_extension": ".py",
   "mimetype": "text/x-python",
   "name": "python",
   "nbconvert_exporter": "python",
   "pygments_lexer": "ipython3",
   "version": "3.9.12"
  }
 },
 "nbformat": 4,
 "nbformat_minor": 5
}
